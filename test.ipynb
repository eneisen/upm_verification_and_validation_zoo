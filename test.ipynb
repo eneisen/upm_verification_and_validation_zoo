{
 "cells": [
  {
   "cell_type": "code",
   "execution_count": 1,
   "metadata": {},
   "outputs": [],
   "source": [
    "import numpy as np\n",
    "import traceback\n",
    "import logging\n",
    "import sys"
   ]
  },
  {
   "cell_type": "code",
   "execution_count": 4,
   "metadata": {},
   "outputs": [
    {
     "data": {
      "text/plain": [
       "False"
      ]
     },
     "execution_count": 4,
     "metadata": {},
     "output_type": "execute_result"
    }
   ],
   "source": [
    "x = \"??\"\n",
    "x.isalnum()"
   ]
  },
  {
   "cell_type": "code",
   "execution_count": 5,
   "metadata": {},
   "outputs": [],
   "source": [
    "a = np.empty(4, dtype=object)"
   ]
  },
  {
   "cell_type": "code",
   "execution_count": 32,
   "metadata": {},
   "outputs": [],
   "source": [
    "exhibits_no = {\n",
    "  \"exhibit_1\" : np.empty(4, dtype=object),\n",
    "  \"exhibit_2\" : np.empty(4, dtype=object),\n",
    "  \"exhibit_3\" : np.empty(4, dtype=object),\n",
    "  \"exhibit_4\" : np.empty(4, dtype=object),\n",
    "}\n",
    "exhibits_n = {\n",
    "  \"exhibit_1\" : np.empty(4, dtype=object),\n",
    "  \"exhibit_2\" : np.empty(4, dtype=object),\n",
    "  \"exhibit_3\" : np.empty(4, dtype=object),\n",
    "  \"exhibit_4\" : np.empty(4, dtype=object),\n",
    "}\n",
    "exhibits_ne = {\n",
    "  \"exhibit_1\" : np.empty(4, dtype=object),\n",
    "  \"exhibit_2\" : np.empty(4, dtype=object),\n",
    "  \"exhibit_3\" : np.empty(4, dtype=object),\n",
    "  \"exhibit_4\" : np.empty(4, dtype=object),\n",
    "}\n",
    "exhibits_o = {\n",
    "  \"exhibit_1\" : np.empty(4, dtype=object),\n",
    "  \"exhibit_2\" : np.empty(4, dtype=object),\n",
    "  \"exhibit_3\" : np.empty(4, dtype=object),\n",
    "  \"exhibit_4\" : np.empty(4, dtype=object),\n",
    "}\n",
    "exhibits_c = {\n",
    "  \"exhibit_1\" : np.empty(4, dtype=object),\n",
    "  \"exhibit_2\" : np.empty(4, dtype=object),\n",
    "  \"exhibit_3\" : np.empty(4, dtype=object),\n",
    "  \"exhibit_4\" : np.empty(4, dtype=object),\n",
    "}\n",
    "exhibits_e = {\n",
    "  \"exhibit_1\" : np.empty(4, dtype=object),\n",
    "  \"exhibit_2\" : np.empty(4, dtype=object),\n",
    "  \"exhibit_3\" : np.empty(4, dtype=object),\n",
    "  \"exhibit_4\" : np.empty(4, dtype=object),\n",
    "}\n",
    "exhibits_so = {\n",
    "  \"exhibit_1\" : np.empty(4, dtype=object),\n",
    "  \"exhibit_2\" : np.empty(4, dtype=object),\n",
    "  \"exhibit_3\" : np.empty(4, dtype=object),\n",
    "  \"exhibit_4\" : np.empty(4, dtype=object),\n",
    "}\n",
    "exhibits_s = {\n",
    "  \"exhibit_1\" : np.empty(4, dtype=object),\n",
    "  \"exhibit_2\" : np.empty(4, dtype=object),\n",
    "  \"exhibit_3\" : np.empty(4, dtype=object),\n",
    "  \"exhibit_4\" : np.empty(4, dtype=object),\n",
    "}\n",
    "exhibits_se = {\n",
    "  \"exhibit_1\" : np.empty(4, dtype=object),\n",
    "  \"exhibit_2\" : np.empty(4, dtype=object),\n",
    "  \"exhibit_3\" : np.empty(4, dtype=object),\n",
    "  \"exhibit_4\" : np.empty(4, dtype=object),\n",
    "}"
   ]
  },
  {
   "cell_type": "code",
   "execution_count": 49,
   "metadata": {},
   "outputs": [],
   "source": [
    "zoo = {\n",
    "  1: np.empty(1, dtype=object),\n",
    "  2: exhibits_n,\n",
    "  3: exhibits_ne,\n",
    "  4: exhibits_o,\n",
    "  5: exhibits_c,\n",
    "  6: exhibits_e,\n",
    "  7: exhibits_so,\n",
    "  8: exhibits_s,\n",
    "  9: exhibits_se\n",
    "}"
   ]
  },
  {
   "cell_type": "code",
   "execution_count": null,
   "metadata": {},
   "outputs": [],
   "source": [
    "global zoo = {\n",
    "            1: np.empty(1, dtype=object),\n",
    "            2: np.empty(1, dtype=object),\n",
    "            3: np.empty(1, dtype=object),\n",
    "            4: np.empty(1, dtype=object),\n",
    "            5: np.empty(1, dtype=object),\n",
    "            6: np.empty(1, dtype=object),\n",
    "            7: np.empty(1, dtype=object),\n",
    "            8: np.empty(1, dtype=object),\n",
    "            9: np.empty(1, dtype=object)\n",
    "    }"
   ]
  },
  {
   "cell_type": "code",
   "execution_count": 51,
   "metadata": {},
   "outputs": [],
   "source": [
    "zoo = {\n",
    "  1: np.empty(1, dtype=object),\n",
    "  2: np.empty(1, dtype=object),\n",
    "  3: np.empty(1, dtype=object),\n",
    "  4: np.empty(1, dtype=object),\n",
    "  5: np.empty(1, dtype=object),\n",
    "  6: np.empty(1, dtype=object),\n",
    "  7: np.empty(1, dtype=object),\n",
    "  8: np.empty(1, dtype=object),\n",
    "  9: np.empty(1, dtype=object)\n",
    "}"
   ]
  },
  {
   "cell_type": "code",
   "execution_count": 46,
   "metadata": {},
   "outputs": [],
   "source": [
    "zoo[1][\"exhibit_1\"][0] = \"tiger\""
   ]
  },
  {
   "cell_type": "code",
   "execution_count": 52,
   "metadata": {},
   "outputs": [
    {
     "data": {
      "text/plain": [
       "9"
      ]
     },
     "execution_count": 52,
     "metadata": {},
     "output_type": "execute_result"
    }
   ],
   "source": [
    "len(zoo)"
   ]
  },
  {
   "cell_type": "code",
   "execution_count": 326,
   "metadata": {},
   "outputs": [],
   "source": [
    "global zoo\n",
    "global unassigned_exhibits\n",
    "zoo = {\n",
    "            1: {},\n",
    "            2: {},\n",
    "            3: {},\n",
    "            4: {},\n",
    "            5: {},\n",
    "            6: {},\n",
    "            7: {},\n",
    "            8: {},\n",
    "            9: {},\n",
    "    }\n",
    "unassigned_exhibits = {}"
   ]
  },
  {
   "cell_type": "code",
   "execution_count": 291,
   "metadata": {},
   "outputs": [
    {
     "data": {
      "text/plain": [
       "1"
      ]
     },
     "execution_count": 291,
     "metadata": {},
     "output_type": "execute_result"
    }
   ],
   "source": [
    "len(zoo[1])"
   ]
  },
  {
   "cell_type": "code",
   "execution_count": 314,
   "metadata": {},
   "outputs": [
    {
     "data": {
      "text/plain": [
       "{1: [], 2: [], 3: [], 4: [], 5: [], 6: [], 7: [], 8: [], 9: []}"
      ]
     },
     "execution_count": 314,
     "metadata": {},
     "output_type": "execute_result"
    }
   ],
   "source": [
    "zoo"
   ]
  },
  {
   "cell_type": "code",
   "execution_count": 293,
   "metadata": {},
   "outputs": [],
   "source": [
    "zoo[1]['birds'] = []"
   ]
  },
  {
   "cell_type": "code",
   "execution_count": null,
   "metadata": {},
   "outputs": [],
   "source": []
  },
  {
   "cell_type": "code",
   "execution_count": 300,
   "metadata": {},
   "outputs": [],
   "source": [
    "def add_exhibit(exhibit_name: str, section_id=None):\n",
    "    if (section_id != None and section_id in [1,2,3,4,5,6,7,8,9]):\n",
    "        # if len(zoo[section_id]) == 0: #check if section is empty\n",
    "        #     exhibits = {\n",
    "        #         exhibit_name : []\n",
    "        #     }\n",
    "        #     zoo[section_id] = exhibits\n",
    "        # else: #or there is already a exhibit dict\n",
    "        zoo[section_id][exhibit_name] = []\n",
    "        print(\"Exhibit \" + exhibit_name + \" added to section \" + str(section_id))\n",
    "    elif section_id == None:\n",
    "        unassigned_exhibits[exhibit_name] = []\n",
    "        print(\"Exhibition \" + exhibit_name +\" added to list of unassigned exhibits\")\n",
    "\n",
    "    else:\n",
    "        print(\"Warning: Invalid section ID\")"
   ]
  },
  {
   "cell_type": "code",
   "execution_count": 311,
   "metadata": {},
   "outputs": [],
   "source": [
    "def assign_exhibit(exhibit_name: str, section_id: int):\n",
    "    if section_id not in [1,2,3,4,5,6,7,8,9]:\n",
    "        print(\"Error: Invalid section ID\")\n",
    "    elif len(zoo[section_id]) <= 4:\n",
    "        try:\n",
    "            # exhibits = {\n",
    "            #     exhibit_name : unassigned_exhibits[exhibit_name]\n",
    "            # }\n",
    "            # if len(zoo[section_id]) == 0: #check if section is empty\n",
    "            #     zoo[section_id] = exhibits\n",
    "            # else:\n",
    "            zoo[section_id][exhibit_name] = unassigned_exhibits[exhibit_name]\n",
    "            del unassigned_exhibits[exhibit_name]\n",
    "            print(\"Exhibit \" + exhibit_name + \" added to section \" + str(section_id))\n",
    "        except Exception as e:\n",
    "            print(\"Exhibit name: \" + exhibit_name + \" not found in the list if unassigned exhibits\")   \n",
    "    else:\n",
    "        print(\"Error: The section selected is full\")"
   ]
  },
  {
   "cell_type": "code",
   "execution_count": 282,
   "metadata": {},
   "outputs": [],
   "source": [
    "def find_section(exhibit_name: str):\n",
    "    for i in range(1,9):\n",
    "        if exhibit_name in zoo[i]:\n",
    "            return i   "
   ]
  },
  {
   "cell_type": "code",
   "execution_count": 237,
   "metadata": {},
   "outputs": [],
   "source": [
    "def add_animal(animal_name: str, exhibit_name: str):\n",
    "    section_id = find_section(exhibit_name)\n",
    "    if section_id == None:\n",
    "        print(\"Exhibit name: \" + exhibit_name + \" not found in assigned exhibits\")\n",
    "    elif len(zoo[section_id][exhibit_name]) < 5:\n",
    "        zoo[section_id][exhibit_name].append(animal_name)\n",
    "    else:\n",
    "        print(\"Error: The exhibit selected is full.\")  "
   ]
  },
  {
   "cell_type": "code",
   "execution_count": 238,
   "metadata": {},
   "outputs": [],
   "source": [
    "def report_zoo():\n",
    "    print(zoo)"
   ]
  },
  {
   "cell_type": "code",
   "execution_count": 239,
   "metadata": {},
   "outputs": [
    {
     "name": "stdout",
     "output_type": "stream",
     "text": [
      "{1: [], 2: [], 3: [], 4: [], 5: [], 6: [], 7: [], 8: [], 9: []}\n"
     ]
    }
   ],
   "source": [
    "report_zoo()"
   ]
  },
  {
   "cell_type": "code",
   "execution_count": 278,
   "metadata": {},
   "outputs": [
    {
     "data": {
      "text/plain": [
       "False"
      ]
     },
     "execution_count": 278,
     "metadata": {},
     "output_type": "execute_result"
    }
   ],
   "source": [
    "len(zoo[1]) > 0"
   ]
  },
  {
   "cell_type": "code",
   "execution_count": 319,
   "metadata": {},
   "outputs": [
    {
     "data": {
      "text/plain": [
       "[]"
      ]
     },
     "execution_count": 319,
     "metadata": {},
     "output_type": "execute_result"
    }
   ],
   "source": [
    "zoo[1]"
   ]
  },
  {
   "cell_type": "code",
   "execution_count": 327,
   "metadata": {},
   "outputs": [
    {
     "name": "stdout",
     "output_type": "stream",
     "text": [
      "Exhibit bird_exhibit added to section 1\n"
     ]
    }
   ],
   "source": [
    "add_exhibit(\"bird_exhibit\", 1)\n",
    "add_animal(\"perrot\",\"bird_exhibit\" )\n",
    "add_animal(\"eagle\",\"bird_exhibit\" )"
   ]
  },
  {
   "cell_type": "code",
   "execution_count": 328,
   "metadata": {},
   "outputs": [
    {
     "data": {
      "text/plain": [
       "{1: {'bird_exhibit': ['perrot', 'eagle']},\n",
       " 2: {},\n",
       " 3: {},\n",
       " 4: {},\n",
       " 5: {},\n",
       " 6: {},\n",
       " 7: {},\n",
       " 8: {},\n",
       " 9: {}}"
      ]
     },
     "execution_count": 328,
     "metadata": {},
     "output_type": "execute_result"
    }
   ],
   "source": [
    "zoo"
   ]
  },
  {
   "cell_type": "code",
   "execution_count": 330,
   "metadata": {},
   "outputs": [
    {
     "name": "stdout",
     "output_type": "stream",
     "text": [
      "Exhibit fish added to section 1\n"
     ]
    }
   ],
   "source": [
    "add_exhibit(\"fish\", 1)"
   ]
  },
  {
   "cell_type": "code",
   "execution_count": 331,
   "metadata": {},
   "outputs": [],
   "source": [
    "add_animal(\"goldfish\",\"fish\" )\n",
    "add_animal(\"salmon\",\"fish\" )"
   ]
  },
  {
   "cell_type": "code",
   "execution_count": 332,
   "metadata": {},
   "outputs": [
    {
     "data": {
      "text/plain": [
       "{1: {'bird_exhibit': ['perrot', 'eagle'], 'fish': ['goldfish', 'salmon']},\n",
       " 2: {},\n",
       " 3: {},\n",
       " 4: {},\n",
       " 5: {},\n",
       " 6: {},\n",
       " 7: {},\n",
       " 8: {},\n",
       " 9: {}}"
      ]
     },
     "execution_count": 332,
     "metadata": {},
     "output_type": "execute_result"
    }
   ],
   "source": [
    "zoo"
   ]
  },
  {
   "cell_type": "code",
   "execution_count": 333,
   "metadata": {},
   "outputs": [
    {
     "name": "stdout",
     "output_type": "stream",
     "text": [
      "Exhibition cats added to list of unassigned exhibits\n"
     ]
    }
   ],
   "source": [
    "add_exhibit(\"cats\")"
   ]
  },
  {
   "cell_type": "code",
   "execution_count": 334,
   "metadata": {},
   "outputs": [
    {
     "name": "stdout",
     "output_type": "stream",
     "text": [
      "Exhibit cats added to section 1\n"
     ]
    }
   ],
   "source": [
    "assign_exhibit(\"cats\", 1)"
   ]
  },
  {
   "cell_type": "code",
   "execution_count": 335,
   "metadata": {},
   "outputs": [
    {
     "data": {
      "text/plain": [
       "{1: {'bird_exhibit': ['perrot', 'eagle'],\n",
       "  'fish': ['goldfish', 'salmon'],\n",
       "  'cats': []},\n",
       " 2: {},\n",
       " 3: {},\n",
       " 4: {},\n",
       " 5: {},\n",
       " 6: {},\n",
       " 7: {},\n",
       " 8: {},\n",
       " 9: {}}"
      ]
     },
     "execution_count": 335,
     "metadata": {},
     "output_type": "execute_result"
    }
   ],
   "source": [
    "zoo"
   ]
  },
  {
   "cell_type": "code",
   "execution_count": 336,
   "metadata": {},
   "outputs": [],
   "source": [
    "add_animal(\"lion\",\"cats\" )\n",
    "add_animal(\"tiger\",\"cats\" )\n",
    "add_animal(\"cat\",\"cats\" )\n",
    "add_animal(\"jaguar\",\"cats\" )\n",
    "add_animal(\"puma\",\"cats\" )"
   ]
  },
  {
   "cell_type": "code",
   "execution_count": 337,
   "metadata": {},
   "outputs": [
    {
     "data": {
      "text/plain": [
       "{1: {'bird_exhibit': ['perrot', 'eagle'],\n",
       "  'fish': ['goldfish', 'salmon'],\n",
       "  'cats': ['lion', 'tiger', 'cat', 'jaguar', 'puma']},\n",
       " 2: {},\n",
       " 3: {},\n",
       " 4: {},\n",
       " 5: {},\n",
       " 6: {},\n",
       " 7: {},\n",
       " 8: {},\n",
       " 9: {}}"
      ]
     },
     "execution_count": 337,
     "metadata": {},
     "output_type": "execute_result"
    }
   ],
   "source": [
    "zoo"
   ]
  },
  {
   "cell_type": "code",
   "execution_count": 338,
   "metadata": {},
   "outputs": [
    {
     "name": "stdout",
     "output_type": "stream",
     "text": [
      "Error: The exhibit selected is full.\n"
     ]
    }
   ],
   "source": [
    "add_animal(\"lynx\",\"cats\" )"
   ]
  },
  {
   "cell_type": "code",
   "execution_count": 263,
   "metadata": {},
   "outputs": [],
   "source": [
    "zoo[1][0]['test'] = [\"hello\", \"ich\"]"
   ]
  },
  {
   "cell_type": "code",
   "execution_count": 268,
   "metadata": {},
   "outputs": [
    {
     "data": {
      "text/plain": [
       "0"
      ]
     },
     "execution_count": 268,
     "metadata": {},
     "output_type": "execute_result"
    }
   ],
   "source": [
    "len(zoo[3])"
   ]
  },
  {
   "cell_type": "code",
   "execution_count": 187,
   "metadata": {},
   "outputs": [
    {
     "data": {
      "text/plain": [
       "1"
      ]
     },
     "execution_count": 187,
     "metadata": {},
     "output_type": "execute_result"
    }
   ],
   "source": [
    "find_section(\"unassigned_exhibit\")"
   ]
  },
  {
   "cell_type": "code",
   "execution_count": 226,
   "metadata": {},
   "outputs": [],
   "source": [
    "add_animal(\"lion\", \"unassigned_exhibit\")"
   ]
  },
  {
   "cell_type": "code",
   "execution_count": 227,
   "metadata": {},
   "outputs": [
    {
     "data": {
      "text/plain": [
       "{1: {'unassigned_exhibit': ['jaguar', 'tiger', 'lion']},\n",
       " 2: [],\n",
       " 3: [],\n",
       " 4: [],\n",
       " 5: [],\n",
       " 6: [],\n",
       " 7: [],\n",
       " 8: [],\n",
       " 9: []}"
      ]
     },
     "execution_count": 227,
     "metadata": {},
     "output_type": "execute_result"
    }
   ],
   "source": [
    "zoo"
   ]
  },
  {
   "cell_type": "code",
   "execution_count": null,
   "metadata": {},
   "outputs": [],
   "source": []
  },
  {
   "cell_type": "code",
   "execution_count": 122,
   "metadata": {},
   "outputs": [
    {
     "data": {
      "text/plain": [
       "{1: array([None], dtype=object),\n",
       " 2: array([None], dtype=object),\n",
       " 3: array([None], dtype=object),\n",
       " 4: array([None], dtype=object),\n",
       " 5: array([None], dtype=object),\n",
       " 6: array([None], dtype=object),\n",
       " 7: array([None], dtype=object),\n",
       " 8: array([None], dtype=object),\n",
       " 9: array([None], dtype=object)}"
      ]
     },
     "execution_count": 122,
     "metadata": {},
     "output_type": "execute_result"
    }
   ],
   "source": [
    "zoo"
   ]
  },
  {
   "cell_type": "code",
   "execution_count": 125,
   "metadata": {},
   "outputs": [
    {
     "data": {
      "text/plain": [
       "{1: array([None], dtype=object),\n",
       " 2: array([None], dtype=object),\n",
       " 3: array([None], dtype=object),\n",
       " 4: array([None], dtype=object),\n",
       " 5: {'unassigned_exhibit': array([None, None, None, None], dtype=object)},\n",
       " 6: array([None], dtype=object),\n",
       " 7: array([None], dtype=object),\n",
       " 8: array([None], dtype=object),\n",
       " 9: array([None], dtype=object)}"
      ]
     },
     "execution_count": 125,
     "metadata": {},
     "output_type": "execute_result"
    }
   ],
   "source": [
    "zoo"
   ]
  },
  {
   "cell_type": "code",
   "execution_count": 126,
   "metadata": {},
   "outputs": [
    {
     "data": {
      "text/plain": [
       "{'unassigned_exhibit': array([None, None, None, None], dtype=object)}"
      ]
     },
     "execution_count": 126,
     "metadata": {},
     "output_type": "execute_result"
    }
   ],
   "source": [
    "zoo[5]"
   ]
  },
  {
   "cell_type": "code",
   "execution_count": 87,
   "metadata": {},
   "outputs": [
    {
     "data": {
      "text/plain": [
       "{'species of cats': array([None, None, None, None], dtype=object)}"
      ]
     },
     "execution_count": 87,
     "metadata": {},
     "output_type": "execute_result"
    }
   ],
   "source": [
    "unassigned_exhibits"
   ]
  }
 ],
 "metadata": {
  "kernelspec": {
   "display_name": "Python 3.9.7 ('ds_2021')",
   "language": "python",
   "name": "python3"
  },
  "language_info": {
   "codemirror_mode": {
    "name": "ipython",
    "version": 3
   },
   "file_extension": ".py",
   "mimetype": "text/x-python",
   "name": "python",
   "nbconvert_exporter": "python",
   "pygments_lexer": "ipython3",
   "version": "3.9.7"
  },
  "orig_nbformat": 4,
  "vscode": {
   "interpreter": {
    "hash": "c5304e0671b8de9e2516daf9771f83d80e22ad9cb9c681a6e6f8c1baa2d3bbae"
   }
  }
 },
 "nbformat": 4,
 "nbformat_minor": 2
}
